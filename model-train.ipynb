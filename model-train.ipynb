{
  "cells": [
    {
      "cell_type": "code",
      "execution_count": null,
      "metadata": {
        "colab": {
          "base_uri": "https://localhost:8080/"
        },
        "collapsed": true,
        "id": "hB5sB-hEfw0L",
        "outputId": "dfc31b72-b51d-411d-8677-988d99ce700c"
      },
      "outputs": [],
      "source": [
        "!pip install ultralytics"
      ]
    },
    {
      "cell_type": "code",
      "execution_count": null,
      "metadata": {
        "colab": {
          "base_uri": "https://localhost:8080/"
        },
        "id": "2x7WF8wQf1wA",
        "outputId": "d8f58f5d-f03a-4475-f3e3-8c4488f4b6fe"
      },
      "outputs": [],
      "source": [
        "from IPython import display\n",
        "display.clear_output()\n",
        "\n",
        "import ultralytics\n",
        "ultralytics.checks()"
      ]
    },
    {
      "cell_type": "code",
      "execution_count": null,
      "metadata": {
        "id": "8cqUgJ9mf1zo"
      },
      "outputs": [],
      "source": [
        "from ultralytics import YOLO\n",
        "\n",
        "from IPython.display import display, Image\n",
        "from IPython.display import Video"
      ]
    },
    {
      "cell_type": "code",
      "execution_count": null,
      "metadata": {
        "id": "u7iNqvbjf116"
      },
      "outputs": [],
      "source": [
        "import os\n",
        "import glob as glob\n",
        "import matplotlib.pyplot as plt\n",
        "import cv2\n",
        "import requests\n",
        "import random\n",
        "import numpy as np\n",
        "\n",
        "np.random.seed(42)"
      ]
    },
    {
      "cell_type": "code",
      "execution_count": null,
      "metadata": {
        "colab": {
          "base_uri": "https://localhost:8080/"
        },
        "id": "GqLZyZAIf14v",
        "outputId": "f90257d3-377c-499d-b411-26d825bb5463"
      },
      "outputs": [
        {
          "name": "stdout",
          "output_type": "stream",
          "text": [
            "Drive already mounted at /content/drive; to attempt to forcibly remount, call drive.mount(\"/content/drive\", force_remount=True).\n"
          ]
        }
      ],
      "source": [
        "from google.colab import drive\n",
        "drive.mount('/content/drive')"
      ]
    },
    {
      "cell_type": "code",
      "execution_count": null,
      "metadata": {
        "colab": {
          "base_uri": "https://localhost:8080/",
          "height": 34
        },
        "id": "AOa3SAt8f17G",
        "outputId": "57149d4f-489f-418f-9074-094012fc8a94"
      },
      "outputs": [
        {
          "data": {
            "application/javascript": "\n    async function download(id, filename, size) {\n      if (!google.colab.kernel.accessAllowed) {\n        return;\n      }\n      const div = document.createElement('div');\n      const label = document.createElement('label');\n      label.textContent = `Downloading \"${filename}\": `;\n      div.appendChild(label);\n      const progress = document.createElement('progress');\n      progress.max = size;\n      div.appendChild(progress);\n      document.body.appendChild(div);\n\n      const buffers = [];\n      let downloaded = 0;\n\n      const channel = await google.colab.kernel.comms.open(id);\n      // Send a message to notify the kernel that we're ready.\n      channel.send({})\n\n      for await (const message of channel.messages) {\n        // Send a message to notify the kernel that we're ready.\n        channel.send({})\n        if (message.buffers) {\n          for (const buffer of message.buffers) {\n            buffers.push(buffer);\n            downloaded += buffer.byteLength;\n            progress.value = downloaded;\n          }\n        }\n      }\n      const blob = new Blob(buffers, {type: 'application/binary'});\n      const a = document.createElement('a');\n      a.href = window.URL.createObjectURL(blob);\n      a.download = filename;\n      div.appendChild(a);\n      a.click();\n      div.remove();\n    }\n  ",
            "text/plain": [
              "<IPython.core.display.Javascript object>"
            ]
          },
          "metadata": {},
          "output_type": "display_data"
        },
        {
          "data": {
            "application/javascript": "download(\"download_8b6ca57a-a2c3-4e73-a7fe-fcc404afacf4\", \"best.pt\", 52047435)",
            "text/plain": [
              "<IPython.core.display.Javascript object>"
            ]
          },
          "metadata": {},
          "output_type": "display_data"
        }
      ],
      "source": [
        "\"\"\"from google.colab import files\n",
        "files.download('/content/drive/MyDrive/Farm-insects/training_results/Farm_insects10 | 120/weights/best.pt') \"\"\""
      ]
    },
    {
      "cell_type": "code",
      "execution_count": null,
      "metadata": {
        "id": "zxd_xJvFaPbv"
      },
      "outputs": [],
      "source": []
    },
    {
      "cell_type": "code",
      "execution_count": null,
      "metadata": {
        "id": "6H4efaqDaPfi"
      },
      "outputs": [],
      "source": []
    },
    {
      "cell_type": "code",
      "execution_count": null,
      "metadata": {
        "colab": {
          "base_uri": "https://localhost:8080/"
        },
        "collapsed": true,
        "id": "5_5OeVOHf19p",
        "outputId": "c81b72b5-884d-4e82-a000-f2e1055d59c9"
      },
      "outputs": [],
      "source": [
        "\n",
        "from ultralytics import YOLO\n",
        "\n",
        "# Download the YOLOv9s model weights (if not already downloaded)\n",
        "model = YOLO('yolov8m.pt')\n",
        "# Now you can proceed with training\n",
        "model.train(\n",
        "    data='/content/drive/MyDrive/Firm_insects/data.yaml',  # Path to your dataset\n",
        "    epochs=200,  # Number of epochs\n",
        "    batch=16,  # Batch size\n",
        "    project='/content/drive/MyDrive/Firm_insects/training_results',  # Save results here\n",
        "    name='Farm_insectsV8m'  # Name of the training run\n",
        ")"
      ]
    },
    {
      "cell_type": "code",
      "execution_count": null,
      "metadata": {
        "colab": {
          "base_uri": "https://localhost:8080/",
          "height": 1000
        },
        "collapsed": true,
        "id": "ff4SALv0f8Jh",
        "outputId": "e48d3d96-068f-4b68-f1bd-d2aa3c6e43ac"
      },
      "outputs": [],
      "source": []
    },
    {
      "cell_type": "code",
      "execution_count": null,
      "metadata": {
        "colab": {
          "background_save": true
        },
        "collapsed": true,
        "id": "ICmkWk5Nf2C3"
      },
      "outputs": [],
      "source": [
        "from ultralytics import YOLO\n",
        "\n",
        "# Load the trained model\n",
        "model = YOLO('/content/drive/MyDrive/Farm-insects/training_results/Farm_insects10 | 200/weights/best.pt')\n",
        "\n",
        "# Run predictions and save results\n",
        "results = model.predict(\n",
        "    source='/content/drive/MyDrive/Farm-insects/insectsData/test/images',  # Path to test images\n",
        "    conf=0.3,  # Confidence threshold\n",
        "    save=True,  # Save predictions\n",
        "    save_dir='/content/drive/MyDrive/Farm-insects/predictions'  # Directory to save results\n",
        ")\n",
        "\n",
        "# Show predictions\n",
        "for result in results:\n",
        "    result.show()\n",
        "\n",
        "\n"
      ]
    },
    {
      "cell_type": "code",
      "execution_count": null,
      "metadata": {
        "colab": {
          "base_uri": "https://localhost:8080/"
        },
        "id": "djEbgdvC8ofS",
        "outputId": "6b8ec619-09e9-4c34-ca35-cdf665dc052a"
      },
      "outputs": [],
      "source": []
    },
    {
      "cell_type": "code",
      "execution_count": null,
      "metadata": {
        "colab": {
          "base_uri": "https://localhost:8080/"
        },
        "collapsed": true,
        "id": "QPyW98xHf2FQ",
        "outputId": "574da4a6-1f91-4e51-9bfc-5b15df69f716"
      },
      "outputs": [],
      "source": [
        "from ultralytics import YOLO\n",
        "\n",
        "# Load the trained model\n",
        "model = YOLO('/content/drive/MyDrive/Farm-insects/training_results/Farm_insects10 m| 200/weights/best.pt')\n",
        "\n",
        "# Print model details\n",
        "print(model.model)"
      ]
    },
    {
      "cell_type": "code",
      "execution_count": null,
      "metadata": {
        "colab": {
          "base_uri": "https://localhost:8080/"
        },
        "id": "aQANc6Wif2IF",
        "outputId": "8cda7804-0af3-4bcb-a315-ec47f37f68cd"
      },
      "outputs": [
        {
          "name": "stdout",
          "output_type": "stream",
          "text": [
            "Model Used for Training: Unknown\n"
          ]
        }
      ],
      "source": []
    },
    {
      "cell_type": "code",
      "execution_count": null,
      "metadata": {
        "colab": {
          "base_uri": "https://localhost:8080/"
        },
        "id": "6DjTcvB3uRCu",
        "outputId": "0d56bfbd-7df8-43ea-bdc2-bc16749fa4a4"
      },
      "outputs": [
        {
          "name": "stdout",
          "output_type": "stream",
          "text": [
            "Model Used: model: yolov8m.pt\n"
          ]
        }
      ],
      "source": [
        "log_path = \"/content/drive/MyDrive/Farm-insects/training_results/Farm_insects10 m| 200/args.yaml\"\n",
        "\n",
        "with open(log_path, \"r\") as f:\n",
        "    lines = f.readlines()\n",
        "    for line in lines:\n",
        "        if \"model\" in line:\n",
        "            print(\"Model Used:\", line.strip())\n"
      ]
    },
    {
      "cell_type": "code",
      "execution_count": null,
      "metadata": {
        "colab": {
          "base_uri": "https://localhost:8080/"
        },
        "collapsed": true,
        "id": "x2g8xgHyuRFc",
        "outputId": "5c84f144-52c9-47fa-b7d5-76ff7d4697d6"
      },
      "outputs": [],
      "source": [
        "from ultralytics import YOLO\n",
        "\n",
        "model = YOLO('/content/drive/MyDrive/Farm-insects/training_results/Farm_insectsV8m| 200/weights/best.pt')\n",
        "model.model  # This prints the architecture (layers, kernel sizes, etc.)\n"
      ]
    },
    {
      "cell_type": "code",
      "execution_count": null,
      "metadata": {
        "colab": {
          "base_uri": "https://localhost:8080/"
        },
        "id": "Ti9nJUn9uRMr",
        "outputId": "6aad6e35-5fab-4455-a3ff-d791a18a54f4"
      },
      "outputs": [],
      "source": []
    }
  ],
  "metadata": {
    "accelerator": "GPU",
    "colab": {
      "gpuType": "T4",
      "provenance": []
    },
    "kernelspec": {
      "display_name": "Python 3",
      "name": "python3"
    },
    "language_info": {
      "name": "python"
    }
  },
  "nbformat": 4,
  "nbformat_minor": 0
}
